{
  "nbformat": 4,
  "nbformat_minor": 0,
  "metadata": {
    "colab": {
      "provenance": [],
      "authorship_tag": "ABX9TyPb2V8lZMWn8WCdszXXQAj6",
      "include_colab_link": true
    },
    "kernelspec": {
      "name": "python3",
      "display_name": "Python 3"
    },
    "language_info": {
      "name": "python"
    }
  },
  "cells": [
    {
      "cell_type": "markdown",
      "metadata": {
        "id": "view-in-github",
        "colab_type": "text"
      },
      "source": [
        "<a href=\"https://colab.research.google.com/github/GilvanPOliveira/FullStack/blob/main/lang.ipynb\" target=\"_parent\"><img src=\"https://colab.research.google.com/assets/colab-badge.svg\" alt=\"Open In Colab\"/></a>"
      ]
    },
    {
      "cell_type": "markdown",
      "source": [
        "Identificação de idioma predominante em textos.\n",
        "* Passo 1: Instalação das bibliotecas;"
      ],
      "metadata": {
        "id": "fU3iKBzHN-U9"
      }
    },
    {
      "cell_type": "code",
      "source": [
        "!pip install langdetect"
      ],
      "metadata": {
        "colab": {
          "base_uri": "https://localhost:8080/"
        },
        "collapsed": true,
        "id": "PcgPVzDwOCCr",
        "outputId": "1bd73c40-ab18-4b77-a847-d455f998ec4b"
      },
      "execution_count": 1,
      "outputs": [
        {
          "output_type": "stream",
          "name": "stdout",
          "text": [
            "Collecting langdetect\n",
            "  Downloading langdetect-1.0.9.tar.gz (981 kB)\n",
            "\u001b[?25l     \u001b[90m━━━━━━━━━━━━━━━━━━━━━━━━━━━━━━━━━━━━━━━━\u001b[0m \u001b[32m0.0/981.5 kB\u001b[0m \u001b[31m?\u001b[0m eta \u001b[36m-:--:--\u001b[0m\r\u001b[2K     \u001b[91m━━━━━━━━━━━━━━━━━━━━━━━━━━━━━━━━━━━━━━━\u001b[0m\u001b[91m╸\u001b[0m \u001b[32m972.8/981.5 kB\u001b[0m \u001b[31m63.3 MB/s\u001b[0m eta \u001b[36m0:00:01\u001b[0m\r\u001b[2K     \u001b[90m━━━━━━━━━━━━━━━━━━━━━━━━━━━━━━━━━━━━━━━━\u001b[0m \u001b[32m981.5/981.5 kB\u001b[0m \u001b[31m20.7 MB/s\u001b[0m eta \u001b[36m0:00:00\u001b[0m\n",
            "\u001b[?25h  Preparing metadata (setup.py) ... \u001b[?25l\u001b[?25hdone\n",
            "Requirement already satisfied: six in /usr/local/lib/python3.11/dist-packages (from langdetect) (1.17.0)\n",
            "Building wheels for collected packages: langdetect\n",
            "  Building wheel for langdetect (setup.py) ... \u001b[?25l\u001b[?25hdone\n",
            "  Created wheel for langdetect: filename=langdetect-1.0.9-py3-none-any.whl size=993222 sha256=8cce3822c7790163123f1be92aaf55da24ed9af7eb116ae4d03f639c5c4be344\n",
            "  Stored in directory: /root/.cache/pip/wheels/0a/f2/b2/e5ca405801e05eb7c8ed5b3b4bcf1fcabcd6272c167640072e\n",
            "Successfully built langdetect\n",
            "Installing collected packages: langdetect\n",
            "Successfully installed langdetect-1.0.9\n"
          ]
        }
      ]
    },
    {
      "cell_type": "markdown",
      "source": [
        "* Passo 2: Definindo as frases, em diferentes idiomas, que serão analisadas;"
      ],
      "metadata": {
        "id": "ePe4_1fEOLYF"
      }
    },
    {
      "cell_type": "code",
      "source": [
        "text = [\"Wear masks, keep distance, wash hands, be safe in these difficult days.\" ,\n",
        "\n",
        "        \"Viseljen maszkot, tartson távolságot, mosson kezet, legyen biztonságban ezekben a nehéz napokban\",\n",
        "\n",
        "        \"Deaths are increasing, be vigilent.\",\n",
        "\n",
        "        \"Носите маски, соблюдайте дистанцию, мойте руки, будьте осторожны в эти тяжелые дни.\",\n",
        "\n",
        "        \"Covid-19: Indians flock to vaccination centers as vaccines are now available for 60+ in India since the 1st of March\",\n",
        "\n",
        "        \"Indossa maschere, mantieni le distanze, lavati le mani, sii al sicuro in questi giorni difficili.\",\n",
        "\n",
        "        \"Portez des masques, gardez vos distances, lavez-vous les mains, soyez en sécurité en ces jours difficiles.\",\n",
        "\n",
        "        \"Brug masker, hold afstand, vask hænder, vær sikker i disse vanskelige dage.\",\n",
        "\n",
        "        \"We are facing a global education crisis. No effort should be spared to safely bring every child back into the classroom.\",\n",
        "\n",
        "        \"Bruk masker, hold avstand, vask hendene, vær trygg i disse vanskelige dagene.\",\n",
        "\n",
        "        \"Portu maskojn, tenu distancon, lavu manojn, estu sekuraj en ĉi tiuj malfacilaj tagoj.\",\n",
        "\n",
        "        \"Tragen Sie Masken, halten Sie Abstand, waschen Sie Ihre Hände, seien Sie in diesen schwierigen Tagen sicher.\",\n",
        "\n",
        "        \"Носіть маски, тримайтеся на відстані, мийте руки, будьте в безпеці в ці важкі дні.\",\n",
        "\n",
        "        \"Lock down , working from home are the keys words for these days.\",\n",
        "\n",
        "        \"Lives have changed drastically across the planet and this period will forever be remembered as the beginning of something we have yet to witness.\",\n",
        "\n",
        "        \"Este é um exemplo de texto escrito em português.\"]"
      ],
      "metadata": {
        "id": "X53oOa8-OTuJ"
      },
      "execution_count": 5,
      "outputs": []
    },
    {
      "cell_type": "markdown",
      "source": [
        "* Passo 3: Recarragendo o ambiente python após a instalação da lib;"
      ],
      "metadata": {
        "id": "4Jxi_ws8OzrH"
      }
    },
    {
      "cell_type": "code",
      "source": [
        "import pkg_resources,imp\n",
        "\n",
        "imp.reload(pkg_resources)"
      ],
      "metadata": {
        "colab": {
          "base_uri": "https://localhost:8080/"
        },
        "collapsed": true,
        "id": "vZj2XARrO4wS",
        "outputId": "c46c8683-a4c4-46a2-a5cd-ea4bfc3be7ab"
      },
      "execution_count": 3,
      "outputs": [
        {
          "output_type": "stream",
          "name": "stderr",
          "text": [
            "<ipython-input-3-65ce4e9120e8>:1: DeprecationWarning: pkg_resources is deprecated as an API. See https://setuptools.pypa.io/en/latest/pkg_resources.html\n",
            "  import pkg_resources,imp\n"
          ]
        },
        {
          "output_type": "execute_result",
          "data": {
            "text/plain": [
              "<module 'pkg_resources' from '/usr/local/lib/python3.11/dist-packages/pkg_resources/__init__.py'>"
            ]
          },
          "metadata": {},
          "execution_count": 3
        }
      ]
    },
    {
      "cell_type": "markdown",
      "source": [
        "* Passo 4: Detectando a linguagem predominante na lista de frases;"
      ],
      "metadata": {
        "id": "tBkeXopRPJZf"
      }
    },
    {
      "cell_type": "code",
      "source": [
        "from langdetect import detect\n",
        "\n",
        "for x in text:\n",
        "\n",
        "    print ('Frase: ', x)\n",
        "\n",
        "    print ('Idioma: ', detect(x), '\\n\\n')"
      ],
      "metadata": {
        "colab": {
          "base_uri": "https://localhost:8080/"
        },
        "collapsed": true,
        "id": "-j-JJrz1PLkR",
        "outputId": "ae9830e4-816f-43f0-88e7-083ae13e669d"
      },
      "execution_count": 8,
      "outputs": [
        {
          "output_type": "stream",
          "name": "stdout",
          "text": [
            "Frase:  Wear masks, keep distance, wash hands, be safe in these difficult days.\n",
            "Idioma:  en \n",
            "\n",
            "\n",
            "Frase:  Viseljen maszkot, tartson távolságot, mosson kezet, legyen biztonságban ezekben a nehéz napokban.\n",
            "Idioma:  hu \n",
            "\n",
            "\n",
            "Frase:  Les décès augmentent, soyez vigilants.\n",
            "Idioma:  fr \n",
            "\n",
            "\n",
            "Frase:  Носите маски, соблюдайте дистанцию, мойте руки, будьте осторожны в эти тяжелые дни.\n",
            "Idioma:  ru \n",
            "\n",
            "\n",
            "Frase:  Covid-19: Indios acuden en masa a los centros de vacunación ya que las vacunas están disponibles para mayores de 60 años desde el 1 de marzo.\n",
            "Idioma:  es \n",
            "\n",
            "\n",
            "Frase:  Indossa maschere, mantieni le distanze, lavati le mani, sii al sicuro in questi giorni difficili.\n",
            "Idioma:  it \n",
            "\n",
            "\n",
            "Frase:  戴口罩，保持距离，勤洗手，在这些困难时期保持安全。\n",
            "Idioma:  zh-cn \n",
            "\n",
            "\n",
            "Frase:  Brug masker, hold afstand, vask hænder, vær sikker i disse vanskelige dage.\n",
            "Idioma:  da \n",
            "\n",
            "\n",
            "Frase:  Estamos enfrentando uma crise global na educação. Nenhum esforço deve ser poupado para trazer todas as crianças de volta à sala de aula com segurança.\n",
            "Idioma:  pt \n",
            "\n",
            "\n",
            "Frase:  Pakai masker, jaga jarak, cuci tangan, tetap aman di hari-hari sulit ini.\n",
            "Idioma:  id \n",
            "\n",
            "\n",
            "Frase:  Magsuot ng maskara, panatilihin ang distansya, hugasan ang kamay, maging ligtas sa mga mahihirap na araw na ito.\n",
            "Idioma:  tl \n",
            "\n",
            "\n",
            "Frase:  Tragen Sie Masken, halten Sie Abstand, waschen Sie Ihre Hände, seien Sie in diesen schwierigen Tagen sicher.\n",
            "Idioma:  de \n",
            "\n",
            "\n",
            "Frase:  कृपया मास्क पहनें, दूरी बनाए रखें, हाथ धोएं और इन कठिन दिनों में सुरक्षित रहें।\n",
            "Idioma:  hi \n",
            "\n",
            "\n",
            "Frase:  Lockdown, hjemmearbejde er nøgleordene i disse dage.\n",
            "Idioma:  da \n",
            "\n",
            "\n",
            "Frase:  La vita è cambiata radicalmente in tutto il pianeta e questo periodo sarà ricordato per sempre come l'inizio di qualcosa che dobbiamo ancora testimoniare.\n",
            "Idioma:  it \n",
            "\n",
            "\n",
            "Frase:  Είναι σημαντικό να φοράτε μάσκες, να κρατάτε αποστάσεις, να πλένετε τα χέρια σας και να παραμένετε ασφαλείς αυτές τις δύσκολες μέρες.\n",
            "Idioma:  el \n",
            "\n",
            "\n"
          ]
        }
      ]
    },
    {
      "cell_type": "markdown",
      "source": [
        "* Passo 5: Detectando a linguagem predominante na lista de frases, com mais idiomas."
      ],
      "metadata": {
        "id": "_9g3LnflQFAL"
      }
    },
    {
      "cell_type": "code",
      "source": [
        "from langdetect import detect\n",
        "\n",
        "for x in text:\n",
        "\n",
        "    print ('Frase: ', x)\n",
        "\n",
        "    print ('Idioma: ', detect(x), '\\n\\n')"
      ],
      "metadata": {
        "colab": {
          "base_uri": "https://localhost:8080/"
        },
        "id": "_iia4dM4RP9X",
        "outputId": "545cf860-247d-40ec-89c6-ff4c66ecf7c8"
      },
      "execution_count": 7,
      "outputs": [
        {
          "output_type": "stream",
          "name": "stdout",
          "text": [
            "Frase:  Wear masks, keep distance, wash hands, be safe in these difficult days.\n",
            "Idioma:  en \n",
            "\n",
            "\n",
            "Frase:  Viseljen maszkot, tartson távolságot, mosson kezet, legyen biztonságban ezekben a nehéz napokban.\n",
            "Idioma:  hu \n",
            "\n",
            "\n",
            "Frase:  Les décès augmentent, soyez vigilants.\n",
            "Idioma:  fr \n",
            "\n",
            "\n",
            "Frase:  Носите маски, соблюдайте дистанцию, мойте руки, будьте осторожны в эти тяжелые дни.\n",
            "Idioma:  ru \n",
            "\n",
            "\n",
            "Frase:  Covid-19: Indios acuden en masa a los centros de vacunación ya que las vacunas están disponibles para mayores de 60 años desde el 1 de marzo.\n",
            "Idioma:  es \n",
            "\n",
            "\n",
            "Frase:  Indossa maschere, mantieni le distanze, lavati le mani, sii al sicuro in questi giorni difficili.\n",
            "Idioma:  it \n",
            "\n",
            "\n",
            "Frase:  戴口罩，保持距离，勤洗手，在这些困难时期保持安全。\n",
            "Idioma:  zh-cn \n",
            "\n",
            "\n",
            "Frase:  Brug masker, hold afstand, vask hænder, vær sikker i disse vanskelige dage.\n",
            "Idioma:  da \n",
            "\n",
            "\n",
            "Frase:  Estamos enfrentando uma crise global na educação. Nenhum esforço deve ser poupado para trazer todas as crianças de volta à sala de aula com segurança.\n",
            "Idioma:  pt \n",
            "\n",
            "\n",
            "Frase:  Pakai masker, jaga jarak, cuci tangan, tetap aman di hari-hari sulit ini.\n",
            "Idioma:  id \n",
            "\n",
            "\n",
            "Frase:  Magsuot ng maskara, panatilihin ang distansya, hugasan ang kamay, maging ligtas sa mga mahihirap na araw na ito.\n",
            "Idioma:  tl \n",
            "\n",
            "\n",
            "Frase:  Tragen Sie Masken, halten Sie Abstand, waschen Sie Ihre Hände, seien Sie in diesen schwierigen Tagen sicher.\n",
            "Idioma:  de \n",
            "\n",
            "\n",
            "Frase:  कृपया मास्क पहनें, दूरी बनाए रखें, हाथ धोएं और इन कठिन दिनों में सुरक्षित रहें।\n",
            "Idioma:  hi \n",
            "\n",
            "\n",
            "Frase:  Lockdown, hjemmearbejde er nøgleordene i disse dage.\n",
            "Idioma:  da \n",
            "\n",
            "\n",
            "Frase:  La vita è cambiata radicalmente in tutto il pianeta e questo periodo sarà ricordato per sempre come l'inizio di qualcosa che dobbiamo ancora testimoniare.\n",
            "Idioma:  it \n",
            "\n",
            "\n",
            "Frase:  Είναι σημαντικό να φοράτε μάσκες, να κρατάτε αποστάσεις, να πλένετε τα χέρια σας και να παραμένετε ασφαλείς αυτές τις δύσκολες μέρες.\n",
            "Idioma:  el \n",
            "\n",
            "\n"
          ]
        }
      ]
    }
  ]
}